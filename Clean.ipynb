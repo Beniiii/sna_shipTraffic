{
 "cells": [
  {
   "cell_type": "code",
   "execution_count": 1,
   "metadata": {},
   "outputs": [],
   "source": [
    "import requests\n",
    "import pandas as pd \n",
    "pd.set_option('mode.chained_assignment', None)"
   ]
  },
  {
   "cell_type": "code",
   "execution_count": 2,
   "metadata": {},
   "outputs": [],
   "source": [
    "df = pd.read_csv(\"./rawData.csv\", index_col=False) "
   ]
  },
  {
   "cell_type": "code",
   "execution_count": 3,
   "metadata": {},
   "outputs": [],
   "source": [
    "def setVesselType(number):\n",
    "    type = '';\n",
    "    if(number == '6_'):\n",
    "        type = 'passenger';\n",
    "    if(number == '7_'):\n",
    "        type = 'cargo';\n",
    "    if(number == '8_'):\n",
    "        type = 'tanker';\n",
    "    if(number == '3_'):\n",
    "        type = 'tug';\n",
    "    if(number == '0_'):\n",
    "        type = 'undefined';\n",
    "    if(number == '9_'):\n",
    "        type = 'yacht';\n",
    "    if(number == '4_'):\n",
    "        type = 'high speed';\n",
    "    if(number == '10'):\n",
    "        type = 'fishing';\n",
    "    if(number == '13'):\n",
    "        type = 'navigation aid';\n",
    "    return type;"
   ]
  },
  {
   "cell_type": "code",
   "execution_count": 4,
   "metadata": {},
   "outputs": [],
   "source": [
    "#clean VesselType\n",
    "for i in df.index:\n",
    "    number = df['VesselType'][i][11:13]\n",
    "    df['VesselType'][i] = setVesselType(number)"
   ]
  },
  {
   "cell_type": "code",
   "execution_count": 5,
   "metadata": {},
   "outputs": [
    {
     "name": "stdout",
     "output_type": "stream",
     "text": [
      "        Unnamed: 0      Event              Time          Port  \\\n",
      "0                0  Departure  2019-12-08 20:18  PORT DICKSON   \n",
      "1                1  Departure  2019-12-08 20:18   PORT JEROME   \n",
      "2                2  Departure  2019-12-08 20:18     STAVANGER   \n",
      "3                3  Departure  2019-12-08 20:18          TARS   \n",
      "4                4  Departure  2019-12-08 20:18       GOSPORT   \n",
      "...            ...        ...               ...           ...   \n",
      "249995      249995    Arrival  2019-12-05 14:16    WHITSTABLE   \n",
      "249996      249996    Arrival  2019-12-05 14:16        BOGNES   \n",
      "249997      249997    Arrival  2019-12-05 14:16     ROZENBURG   \n",
      "249998      249998    Arrival  2019-12-05 14:16     STORNOWAY   \n",
      "249999      249999    Arrival  2019-12-05 14:16     ROTTERDAM   \n",
      "\n",
      "                           Vessel VesselType  \n",
      "0                ORKIM POWER [MY]     tanker  \n",
      "1                     VAUBAN [FR]  undefined  \n",
      "2                      TEDNO [NO]  passenger  \n",
      "3                    LOLLAND [DK]  passenger  \n",
      "4       SPIRIT OF PORTSMOUTH [GB]  passenger  \n",
      "...                           ...        ...  \n",
      "249995            LISA MARIE [GB]    fishing  \n",
      "249996              HAMAROEY [NO]  passenger  \n",
      "249997           BLANKENBURG [NL]  passenger  \n",
      "249998              VOE EARL [GB]        tug  \n",
      "249999                 STERN [NL]      cargo  \n",
      "\n",
      "[250000 rows x 6 columns]\n"
     ]
    }
   ],
   "source": [
    "print(df)\n",
    "df.to_csv(\"preparedData.csv\", index=False)"
   ]
  },
  {
   "cell_type": "code",
   "execution_count": 6,
   "metadata": {},
   "outputs": [],
   "source": [
    "#create set of vessels\n",
    "vessels = set(df.Vessel)"
   ]
  },
  {
   "cell_type": "code",
   "execution_count": 7,
   "metadata": {},
   "outputs": [],
   "source": [
    "#create new df for linked values (arrival and departure)\n",
    "timetable = pd.DataFrame([], columns = ['DeparturePort', 'DepartureTime', 'ArrivalPort', 'ArrivalTime', 'Vessel', 'VesselType'])"
   ]
  },
  {
   "cell_type": "code",
   "execution_count": 8,
   "metadata": {},
   "outputs": [],
   "source": [
    "#vessel filter and combine arrival and deaprture\n",
    "for v in vessels:\n",
    "    allEntriesOfVessel = df[df['Vessel'].isin([v])]\n",
    "    depFirst = False\n",
    "    for index, row in allEntriesOfVessel[::-1].iterrows():\n",
    "        arrivalPort, arrivalTime = \"\", \"\"\n",
    "        \n",
    "        if(allEntriesOfVessel.Event[index] == \"Departure\"):\n",
    "            departurePort = (allEntriesOfVessel.Port[index])\n",
    "            departureTime = (allEntriesOfVessel.Time[index])\n",
    "            vessel = (allEntriesOfVessel.Vessel[index])\n",
    "            vesselType = (allEntriesOfVessel.VesselType[index])\n",
    "            depFirst = True\n",
    "        if(allEntriesOfVessel.Event[index] == \"Arrival\" and depFirst):\n",
    "            arrivalPort = (allEntriesOfVessel.Port[index])\n",
    "            arrivalTime = (allEntriesOfVessel.Time[index])\n",
    "            depFirst = False\n",
    "\n",
    "            if(departurePort != \"\" or departureTime != \"\" or vessel != \"\" or vesselType != \"\" or arrivalPort != \"\" or arrivalTime!= \"\"):\n",
    "                newEntry = pd.DataFrame([[departurePort, departureTime, arrivalPort, arrivalTime, vessel, vesselType]], columns = ['DeparturePort', 'DepartureTime', 'ArrivalPort', 'ArrivalTime', 'Vessel', 'VesselType'])\n",
    "                timetable = timetable.append(newEntry, ignore_index = True)\n",
    "            "
   ]
  },
  {
   "cell_type": "code",
   "execution_count": 9,
   "metadata": {},
   "outputs": [],
   "source": [
    "#drop all rows that have any NaN values\n",
    "timetable = timetable.dropna()"
   ]
  },
  {
   "cell_type": "code",
   "execution_count": 10,
   "metadata": {},
   "outputs": [
    {
     "name": "stdout",
     "output_type": "stream",
     "text": [
      "       DeparturePort     DepartureTime ArrivalPort       ArrivalTime  \\\n",
      "0           GUSTAVIA  2019-12-05 19:59    GUSTAVIA  2019-12-06 09:56   \n",
      "1           GUSTAVIA  2019-12-06 12:52    GUSTAVIA  2019-12-07 10:06   \n",
      "2      FREEPORT (TX)  2019-12-05 20:10     HOUSTON  2019-12-06 07:59   \n",
      "3              KAWAU  2019-12-06 20:05       KAWAU  2019-12-07 03:08   \n",
      "4              KAWAU  2019-12-07 22:17       KAWAU  2019-12-08 00:26   \n",
      "...              ...               ...         ...               ...   \n",
      "98287         TUAPSE  2019-12-07 04:39      TUAPSE  2019-12-07 04:42   \n",
      "98288         TUAPSE  2019-12-07 07:55      TUAPSE  2019-12-07 08:51   \n",
      "98289         TUAPSE  2019-12-07 12:13      TUAPSE  2019-12-07 12:23   \n",
      "98290         TUAPSE  2019-12-07 18:53      TUAPSE  2019-12-07 19:43   \n",
      "98291         TUAPSE  2019-12-08 13:50      TUAPSE  2019-12-08 14:09   \n",
      "\n",
      "                      Vessel VesselType  \n",
      "0               HIRUNDO [BL]      cargo  \n",
      "1               HIRUNDO [BL]      cargo  \n",
      "2           DEL WILKINS [US]        tug  \n",
      "3                KRABAT [NZ]      yacht  \n",
      "4                KRABAT [NZ]      yacht  \n",
      "...                      ...        ...  \n",
      "98287  KAPITAN AVDYUKOV [RU]        tug  \n",
      "98288  KAPITAN AVDYUKOV [RU]        tug  \n",
      "98289  KAPITAN AVDYUKOV [RU]        tug  \n",
      "98290  KAPITAN AVDYUKOV [RU]        tug  \n",
      "98291  KAPITAN AVDYUKOV [RU]        tug  \n",
      "\n",
      "[98292 rows x 6 columns]\n"
     ]
    }
   ],
   "source": [
    "print(timetable)\n",
    "timetable.to_csv(\"timetable.csv\")"
   ]
  },
  {
   "cell_type": "code",
   "execution_count": null,
   "metadata": {},
   "outputs": [],
   "source": []
  }
 ],
 "metadata": {
  "kernelspec": {
   "display_name": "Python 3",
   "language": "python",
   "name": "python3"
  },
  "language_info": {
   "codemirror_mode": {
    "name": "ipython",
    "version": 3
   },
   "file_extension": ".py",
   "mimetype": "text/x-python",
   "name": "python",
   "nbconvert_exporter": "python",
   "pygments_lexer": "ipython3",
   "version": "3.7.4"
  }
 },
 "nbformat": 4,
 "nbformat_minor": 4
}
