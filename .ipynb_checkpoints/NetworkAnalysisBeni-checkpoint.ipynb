{
 "cells": [
  {
   "cell_type": "code",
   "execution_count": 1,
   "metadata": {},
   "outputs": [
    {
     "ename": "KeyboardInterrupt",
     "evalue": "",
     "output_type": "error",
     "traceback": [
      "\u001b[1;31m---------------------------------------------------------------------------\u001b[0m",
      "\u001b[1;31mKeyboardInterrupt\u001b[0m                         Traceback (most recent call last)",
      "\u001b[1;32m<ipython-input-1-564b8add5f59>\u001b[0m in \u001b[0;36m<module>\u001b[1;34m\u001b[0m\n\u001b[0;32m      1\u001b[0m \u001b[1;32mimport\u001b[0m \u001b[0mmath\u001b[0m\u001b[1;33m\u001b[0m\u001b[1;33m\u001b[0m\u001b[0m\n\u001b[1;32m----> 2\u001b[1;33m \u001b[1;32mimport\u001b[0m \u001b[0mpandas\u001b[0m \u001b[1;32mas\u001b[0m \u001b[0mpd\u001b[0m\u001b[1;33m\u001b[0m\u001b[1;33m\u001b[0m\u001b[0m\n\u001b[0m\u001b[0;32m      3\u001b[0m \u001b[1;32mimport\u001b[0m \u001b[0mnumpy\u001b[0m \u001b[1;32mas\u001b[0m \u001b[0mnp\u001b[0m\u001b[1;33m\u001b[0m\u001b[1;33m\u001b[0m\u001b[0m\n\u001b[0;32m      4\u001b[0m \u001b[1;32mimport\u001b[0m \u001b[0mmatplotlib\u001b[0m\u001b[1;33m.\u001b[0m\u001b[0mimage\u001b[0m \u001b[1;32mas\u001b[0m \u001b[0mmpimg\u001b[0m\u001b[1;33m\u001b[0m\u001b[1;33m\u001b[0m\u001b[0m\n\u001b[0;32m      5\u001b[0m \u001b[1;32mimport\u001b[0m \u001b[0mmatplotlib\u001b[0m\u001b[1;33m.\u001b[0m\u001b[0mpyplot\u001b[0m \u001b[1;32mas\u001b[0m \u001b[0mplt\u001b[0m\u001b[1;33m\u001b[0m\u001b[1;33m\u001b[0m\u001b[0m\n",
      "\u001b[1;32m~\\Anaconda3\\lib\\site-packages\\pandas\\__init__.py\u001b[0m in \u001b[0;36m<module>\u001b[1;34m\u001b[0m\n\u001b[0;32m     11\u001b[0m \u001b[1;32mfor\u001b[0m \u001b[0mdependency\u001b[0m \u001b[1;32min\u001b[0m \u001b[0mhard_dependencies\u001b[0m\u001b[1;33m:\u001b[0m\u001b[1;33m\u001b[0m\u001b[1;33m\u001b[0m\u001b[0m\n\u001b[0;32m     12\u001b[0m     \u001b[1;32mtry\u001b[0m\u001b[1;33m:\u001b[0m\u001b[1;33m\u001b[0m\u001b[1;33m\u001b[0m\u001b[0m\n\u001b[1;32m---> 13\u001b[1;33m         \u001b[0m__import__\u001b[0m\u001b[1;33m(\u001b[0m\u001b[0mdependency\u001b[0m\u001b[1;33m)\u001b[0m\u001b[1;33m\u001b[0m\u001b[1;33m\u001b[0m\u001b[0m\n\u001b[0m\u001b[0;32m     14\u001b[0m     \u001b[1;32mexcept\u001b[0m \u001b[0mImportError\u001b[0m \u001b[1;32mas\u001b[0m \u001b[0me\u001b[0m\u001b[1;33m:\u001b[0m\u001b[1;33m\u001b[0m\u001b[1;33m\u001b[0m\u001b[0m\n\u001b[0;32m     15\u001b[0m         \u001b[0mmissing_dependencies\u001b[0m\u001b[1;33m.\u001b[0m\u001b[0mappend\u001b[0m\u001b[1;33m(\u001b[0m\u001b[0mdependency\u001b[0m\u001b[1;33m)\u001b[0m\u001b[1;33m\u001b[0m\u001b[1;33m\u001b[0m\u001b[0m\n",
      "\u001b[1;32m~\\Anaconda3\\lib\\site-packages\\pytz\\__init__.py\u001b[0m in \u001b[0;36m<module>\u001b[1;34m\u001b[0m\n\u001b[0;32m   1099\u001b[0m \u001b[1;33m\u001b[0m\u001b[0m\n\u001b[0;32m   1100\u001b[0m \u001b[0mall_timezones_set\u001b[0m \u001b[1;33m=\u001b[0m \u001b[0mLazySet\u001b[0m\u001b[1;33m(\u001b[0m\u001b[0mall_timezones\u001b[0m\u001b[1;33m)\u001b[0m\u001b[1;33m\u001b[0m\u001b[1;33m\u001b[0m\u001b[0m\n\u001b[1;32m-> 1101\u001b[1;33m \u001b[0m_all_timezones_lower_to_standard\u001b[0m \u001b[1;33m=\u001b[0m \u001b[0mdict\u001b[0m\u001b[1;33m(\u001b[0m\u001b[1;33m(\u001b[0m\u001b[0mtz\u001b[0m\u001b[1;33m.\u001b[0m\u001b[0mlower\u001b[0m\u001b[1;33m(\u001b[0m\u001b[1;33m)\u001b[0m\u001b[1;33m,\u001b[0m \u001b[0mtz\u001b[0m\u001b[1;33m)\u001b[0m \u001b[1;32mfor\u001b[0m \u001b[0mtz\u001b[0m \u001b[1;32min\u001b[0m \u001b[0mall_timezones\u001b[0m\u001b[1;33m)\u001b[0m\u001b[1;33m\u001b[0m\u001b[1;33m\u001b[0m\u001b[0m\n\u001b[0m\u001b[0;32m   1102\u001b[0m \u001b[0mcommon_timezones\u001b[0m \u001b[1;33m=\u001b[0m\u001b[0;31m \u001b[0m\u001b[0;31m\\\u001b[0m\u001b[1;33m\u001b[0m\u001b[1;33m\u001b[0m\u001b[0m\n\u001b[0;32m   1103\u001b[0m ['Africa/Abidjan',\n",
      "\u001b[1;32m~\\Anaconda3\\lib\\site-packages\\pytz\\lazy.py\u001b[0m in \u001b[0;36m_lazy\u001b[1;34m(self, *args, **kw)\u001b[0m\n\u001b[0;32m     99\u001b[0m                 \u001b[1;32mtry\u001b[0m\u001b[1;33m:\u001b[0m\u001b[1;33m\u001b[0m\u001b[1;33m\u001b[0m\u001b[0m\n\u001b[0;32m    100\u001b[0m                     \u001b[1;32mif\u001b[0m \u001b[0mlen\u001b[0m\u001b[1;33m(\u001b[0m\u001b[0mfill_iter\u001b[0m\u001b[1;33m)\u001b[0m \u001b[1;33m>\u001b[0m \u001b[1;36m0\u001b[0m\u001b[1;33m:\u001b[0m\u001b[1;33m\u001b[0m\u001b[1;33m\u001b[0m\u001b[0m\n\u001b[1;32m--> 101\u001b[1;33m                         \u001b[0mlist\u001b[0m\u001b[1;33m.\u001b[0m\u001b[0mextend\u001b[0m\u001b[1;33m(\u001b[0m\u001b[0mself\u001b[0m\u001b[1;33m,\u001b[0m \u001b[0mfill_iter\u001b[0m\u001b[1;33m.\u001b[0m\u001b[0mpop\u001b[0m\u001b[1;33m(\u001b[0m\u001b[1;33m)\u001b[0m\u001b[1;33m)\u001b[0m\u001b[1;33m\u001b[0m\u001b[1;33m\u001b[0m\u001b[0m\n\u001b[0m\u001b[0;32m    102\u001b[0m                         \u001b[1;32mfor\u001b[0m \u001b[0mmethod_name\u001b[0m \u001b[1;32min\u001b[0m \u001b[0mcls\u001b[0m\u001b[1;33m.\u001b[0m\u001b[0m_props\u001b[0m\u001b[1;33m:\u001b[0m\u001b[1;33m\u001b[0m\u001b[1;33m\u001b[0m\u001b[0m\n\u001b[0;32m    103\u001b[0m                             \u001b[0mdelattr\u001b[0m\u001b[1;33m(\u001b[0m\u001b[0mLazyList\u001b[0m\u001b[1;33m,\u001b[0m \u001b[0mmethod_name\u001b[0m\u001b[1;33m)\u001b[0m\u001b[1;33m\u001b[0m\u001b[1;33m\u001b[0m\u001b[0m\n",
      "\u001b[1;32m~\\Anaconda3\\lib\\site-packages\\pytz\\__init__.py\u001b[0m in \u001b[0;36m<genexpr>\u001b[1;34m(.0)\u001b[0m\n\u001b[0;32m   1096\u001b[0m  'Zulu']\n\u001b[0;32m   1097\u001b[0m all_timezones = LazyList(\n\u001b[1;32m-> 1098\u001b[1;33m         tz for tz in all_timezones if resource_exists(tz))\n\u001b[0m\u001b[0;32m   1099\u001b[0m \u001b[1;33m\u001b[0m\u001b[0m\n\u001b[0;32m   1100\u001b[0m \u001b[0mall_timezones_set\u001b[0m \u001b[1;33m=\u001b[0m \u001b[0mLazySet\u001b[0m\u001b[1;33m(\u001b[0m\u001b[0mall_timezones\u001b[0m\u001b[1;33m)\u001b[0m\u001b[1;33m\u001b[0m\u001b[1;33m\u001b[0m\u001b[0m\n",
      "\u001b[1;32m~\\Anaconda3\\lib\\site-packages\\pytz\\__init__.py\u001b[0m in \u001b[0;36mresource_exists\u001b[1;34m(name)\u001b[0m\n\u001b[0;32m    112\u001b[0m     \u001b[1;34m\"\"\"Return true if the given resource exists\"\"\"\u001b[0m\u001b[1;33m\u001b[0m\u001b[1;33m\u001b[0m\u001b[0m\n\u001b[0;32m    113\u001b[0m     \u001b[1;32mtry\u001b[0m\u001b[1;33m:\u001b[0m\u001b[1;33m\u001b[0m\u001b[1;33m\u001b[0m\u001b[0m\n\u001b[1;32m--> 114\u001b[1;33m         \u001b[0mopen_resource\u001b[0m\u001b[1;33m(\u001b[0m\u001b[0mname\u001b[0m\u001b[1;33m)\u001b[0m\u001b[1;33m.\u001b[0m\u001b[0mclose\u001b[0m\u001b[1;33m(\u001b[0m\u001b[1;33m)\u001b[0m\u001b[1;33m\u001b[0m\u001b[1;33m\u001b[0m\u001b[0m\n\u001b[0m\u001b[0;32m    115\u001b[0m         \u001b[1;32mreturn\u001b[0m \u001b[1;32mTrue\u001b[0m\u001b[1;33m\u001b[0m\u001b[1;33m\u001b[0m\u001b[0m\n\u001b[0;32m    116\u001b[0m     \u001b[1;32mexcept\u001b[0m \u001b[0mIOError\u001b[0m\u001b[1;33m:\u001b[0m\u001b[1;33m\u001b[0m\u001b[1;33m\u001b[0m\u001b[0m\n",
      "\u001b[1;32m~\\Anaconda3\\lib\\site-packages\\pytz\\__init__.py\u001b[0m in \u001b[0;36mopen_resource\u001b[1;34m(name)\u001b[0m\n\u001b[0;32m    106\u001b[0m             \u001b[1;32mif\u001b[0m \u001b[0mresource_stream\u001b[0m \u001b[1;32mis\u001b[0m \u001b[1;32mnot\u001b[0m \u001b[1;32mNone\u001b[0m\u001b[1;33m:\u001b[0m\u001b[1;33m\u001b[0m\u001b[1;33m\u001b[0m\u001b[0m\n\u001b[0;32m    107\u001b[0m                 \u001b[1;32mreturn\u001b[0m \u001b[0mresource_stream\u001b[0m\u001b[1;33m(\u001b[0m\u001b[0m__name__\u001b[0m\u001b[1;33m,\u001b[0m \u001b[1;34m'zoneinfo/'\u001b[0m \u001b[1;33m+\u001b[0m \u001b[0mname\u001b[0m\u001b[1;33m)\u001b[0m\u001b[1;33m\u001b[0m\u001b[1;33m\u001b[0m\u001b[0m\n\u001b[1;32m--> 108\u001b[1;33m     \u001b[1;32mreturn\u001b[0m \u001b[0mopen\u001b[0m\u001b[1;33m(\u001b[0m\u001b[0mfilename\u001b[0m\u001b[1;33m,\u001b[0m \u001b[1;34m'rb'\u001b[0m\u001b[1;33m)\u001b[0m\u001b[1;33m\u001b[0m\u001b[1;33m\u001b[0m\u001b[0m\n\u001b[0m\u001b[0;32m    109\u001b[0m \u001b[1;33m\u001b[0m\u001b[0m\n\u001b[0;32m    110\u001b[0m \u001b[1;33m\u001b[0m\u001b[0m\n",
      "\u001b[1;31mKeyboardInterrupt\u001b[0m: "
     ]
    }
   ],
   "source": [
    "import math\n",
    "import pandas as pd \n",
    "import numpy as np\n",
    "import matplotlib.image as mpimg\n",
    "import matplotlib.pyplot as plt\n",
    "import seaborn as sns\n",
    "import networkx as nx\n",
    "import warnings\n",
    "%matplotlib inline\n",
    "warnings.filterwarnings('ignore')\n",
    "from collections import Counter"
   ]
  },
  {
   "cell_type": "code",
   "execution_count": null,
   "metadata": {},
   "outputs": [],
   "source": [
    "df = pd.read_csv(\"./timetable.csv\", index_col=[0]) \n",
    "df.head(6)"
   ]
  },
  {
   "cell_type": "markdown",
   "metadata": {},
   "source": [
    "## Global Overview - undirected vs. directed Graph"
   ]
  },
  {
   "cell_type": "code",
   "execution_count": null,
   "metadata": {},
   "outputs": [],
   "source": [
    "#define nodes\n",
    "arrival_nodes = df.ArrivalPort.tolist()\n",
    "departure_nodes = df.DeparturePort.tolist()\n",
    "\n",
    "nodes = set(np.concatenate((arrival_nodes, departure_nodes)))"
   ]
  },
  {
   "cell_type": "code",
   "execution_count": null,
   "metadata": {},
   "outputs": [],
   "source": [
    "#define edges\n",
    "edges = []\n",
    "for i in df.index:\n",
    "    edge = (df['DeparturePort'][i], df['ArrivalPort'][i])\n",
    "    edges.append(edge)"
   ]
  },
  {
   "cell_type": "markdown",
   "metadata": {},
   "source": [
    "### Undirected Graph"
   ]
  },
  {
   "cell_type": "code",
   "execution_count": null,
   "metadata": {},
   "outputs": [],
   "source": [
    "#create undirected Graph\n",
    "graph_undirected = nx.Graph()\n",
    "\n",
    "graph_undirected.add_nodes_from(nodes)\n",
    "graph_undirected.add_edges_from(edges)"
   ]
  },
  {
   "cell_type": "code",
   "execution_count": null,
   "metadata": {},
   "outputs": [],
   "source": [
    "#plot whole network\n",
    "pos=nx.spring_layout(graph_undirected)\n",
    "plt.figure(1, figsize=(45,45))\n",
    "nx.draw(graph_undirected,pos,node_color='#A0CBE2',edge_color='#BB0000',width=1,node_size=50,font_size=5,with_labels=False)\n",
    "plt.show()"
   ]
  },
  {
   "cell_type": "markdown",
   "metadata": {},
   "source": [
    "### Directed Graph"
   ]
  },
  {
   "cell_type": "code",
   "execution_count": null,
   "metadata": {},
   "outputs": [],
   "source": [
    "#create directed graph with weights\n",
    "graph_directed = nx.DiGraph((x, y, {'weight': v}) for (x,y), v in Counter(edges).items())\n",
    "graph_directed.add_nodes_from(nodes)\n",
    "graph_directed.add_edges_from(edges)\n",
    "\n",
    "#graph.edges(data = True)"
   ]
  },
  {
   "cell_type": "code",
   "execution_count": null,
   "metadata": {},
   "outputs": [],
   "source": [
    "#plot whole network\n",
    "pos=nx.spring_layout(graph_directed)\n",
    "plt.figure(1, figsize=(45,45))\n",
    "weights = [graph_directed[u][v]['weight']*0.005 for u,v in edges]\n",
    "nx.draw(graph_directed,pos,node_color='#A0CBE2',edge_color='#BB0000',width=weights,node_size=180,font_size=5,with_labels=False)\n",
    "plt.savefig(\"graph_orig.pdf\")\n",
    "plt.show() "
   ]
  },
  {
   "cell_type": "markdown",
   "metadata": {},
   "source": [
    "## Degree: Ports with most degree"
   ]
  },
  {
   "cell_type": "code",
   "execution_count": null,
   "metadata": {},
   "outputs": [],
   "source": [
    "degree = graph_directed.degree()\n",
    "to_keep = [n for (n, deg) in degree if deg > 10]\n",
    "graph_filtered_degree = graph_directed.subgraph(to_keep)\n",
    "\n",
    "pos=nx.spring_layout(graph_filtered_degree, k=0.6)\n",
    "plt.figure(1, figsize=(45,45))\n",
    "nx.draw(graph_filtered_degree,pos,node_color='#A0CBE2',edge_color='#BB0000',width=1,node_size=5000,font_size=11,with_labels=True)\n",
    "plt.show()"
   ]
  },
  {
   "cell_type": "code",
   "execution_count": null,
   "metadata": {},
   "outputs": [],
   "source": [
    "#Degree centrality - whole network\n",
    "all_degree_centrality = nx.degree_centrality(graph_directed)\n",
    "\n",
    "centrality_dict = {k: v for k, v in sorted(all_degree_centrality.items(), key=lambda item: item[1])}\n",
    "\n",
    "print(\"Highest Degree Centrality:\")\n",
    "print()\n",
    "for x in list(reversed(list(centrality_dict)))[0:10]:\n",
    "    print(x, round(centrality_dict.get(x) * (len(all_degree_centrality) - 1)))"
   ]
  },
  {
   "cell_type": "code",
   "execution_count": null,
   "metadata": {},
   "outputs": [],
   "source": [
    "#Hafen mit meistem Verkehr\n",
    "weighted_degrees = []\n",
    "\n",
    "for n in nodes:\n",
    "    weighted_degree = 0\n",
    "    for e in graph_directed.edges(n, data = True):\n",
    "        weighted_degree += e[2].get('weight')\n",
    "    \n",
    "    weighted_degrees.append((n,weighted_degree))\n",
    "\n",
    "weighted_degrees\n",
    "\n",
    "\n",
    "for x in list(reversed(list(sorted(weighted_degrees, key=lambda x: x[1]))))[0:15]:\n",
    "    print(x[0], ':', x[1])"
   ]
  },
  {
   "cell_type": "code",
   "execution_count": null,
   "metadata": {},
   "outputs": [],
   "source": [
    "#meist befahrene Strecke\n",
    "weighted_edges = []\n",
    "\n",
    "for e in graph_directed.edges(data = True):\n",
    "    weighted_edges.append((e[0],e[1],e[2].get('weight')))\n",
    "\n",
    "for x in list(reversed(list(sorted(weighted_edges, key=lambda x: x[2]))))[0:15]:\n",
    "    print(x)"
   ]
  },
  {
   "cell_type": "markdown",
   "metadata": {},
   "source": [
    "## Hafen ohne self loops (externer Hafenverkehr)"
   ]
  },
  {
   "cell_type": "code",
   "execution_count": null,
   "metadata": {},
   "outputs": [],
   "source": [
    "#define edges withou self-loops\n",
    "edges_no_self_loop = []\n",
    "for i in df.index:\n",
    "    dep = df['DeparturePort'][i]\n",
    "    arr = df['ArrivalPort'][i]\n",
    "    \n",
    "    if (dep != arr):\n",
    "        edges_no_self_loop.append((dep, arr))"
   ]
  },
  {
   "cell_type": "code",
   "execution_count": null,
   "metadata": {},
   "outputs": [],
   "source": [
    "#Create graph\n",
    "graph_no_loops = nx.DiGraph((x, y, {'weight': v}) for (x,y), v in Counter(edges_no_self_loop).items())\n",
    "\n",
    "graph_no_loops.add_nodes_from(nodes)\n",
    "graph_no_loops.add_edges_from(edges_no_self_loop)"
   ]
  },
  {
   "cell_type": "code",
   "execution_count": null,
   "metadata": {},
   "outputs": [],
   "source": [
    "#Degree centrality\n",
    "degree_centrality_no_selfloop = nx.degree_centrality(graph_no_loops)\n",
    "centrality_dict_no_selfloop = {k: v for k, v in sorted(degree_centrality_no_selfloop.items(), key=lambda item: item[1])}"
   ]
  },
  {
   "cell_type": "code",
   "execution_count": null,
   "metadata": {},
   "outputs": [],
   "source": [
    "count = sum(map(lambda x : centrality_dict_no_selfloop.get(x) == 0.0, centrality_dict_no_selfloop))\n",
    "print('Numbers of self-looping ports:', count)\n",
    "print('Percentage self-looping ports:', 100/len(centrality_dict_no_selfloop)*count)"
   ]
  },
  {
   "cell_type": "code",
   "execution_count": null,
   "metadata": {},
   "outputs": [],
   "source": [
    "#Hafen mit meistem Verkehr aus externen Häfen (ohne self loops)\n",
    "weighted_degrees = []\n",
    "\n",
    "for n in nodes:\n",
    "    weighted_degree = 0\n",
    "    for e in graph_no_loops.edges(n, data = True):\n",
    "        if e is not None:\n",
    "            weighted_degree += e[2].get('weight')\n",
    "    \n",
    "    weighted_degrees.append((n,weighted_degree))\n",
    "\n",
    "\n",
    "for x in list(reversed(list(sorted(weighted_degrees, key=lambda x: x[1]))))[0:15]:\n",
    "    print(x[0], ':', x[1])"
   ]
  },
  {
   "cell_type": "markdown",
   "metadata": {},
   "source": [
    "## English Channel - Ärmelkanal"
   ]
  },
  {
   "cell_type": "code",
   "execution_count": null,
   "metadata": {},
   "outputs": [],
   "source": [
    "#https://en.wikipedia.org/wiki/Category:Ports_and_harbours_of_the_English_Channel\n",
    "english_channel_ports = ['OUISTREHAM', 'BLOSCON', 'CORNWALL','LONGSTONE','MILLBAY','OSTEND','GRANVILLE''DARTMOUTH','DEVON','DIEPPE','BARFLEUR','CORNWALL','FECAMP','FOLKESTONE','FOWEY','BARNEVILLE','BARTERET','CANCALE', 'CHANNEL PORTS', 'CHERBOURG', 'DARTMOUTH', 'ROSCOFF', 'TEIGNMOUTH', 'DOVER', 'CAEN', 'FALMOUTH', 'PORTSMOUTH ANCH', 'PORTLAND UK', 'LE HAVRE', 'SOUTHAMPTON', 'PORTSMOUTH']\n",
    "\n",
    "\n",
    "counter = 0\n",
    "\n",
    "for p in centrality_dict_no_selfloop.keys():\n",
    "    for e in english_channel_ports:\n",
    "        if e == p:\n",
    "            counter = counter+1\n",
    "            print(p, round(centrality_dict_no_selfloop.get(p) * (len(centrality_dict_no_selfloop) - 1)))"
   ]
  },
  {
   "cell_type": "code",
   "execution_count": null,
   "metadata": {},
   "outputs": [],
   "source": [
    "print('Ports in english channel without traffic:', len(english_channel_ports) - counter)\n",
    "print('PORTSMOUTH (NH) != PORTSMOUTH ANCH != PORTSMOUTH')"
   ]
  },
  {
   "cell_type": "code",
   "execution_count": null,
   "metadata": {},
   "outputs": [],
   "source": [
    "#TODO: Ärmelkanal ports visualisieren"
   ]
  },
  {
   "cell_type": "markdown",
   "metadata": {},
   "source": [
    "# ***************** Beni *****************"
   ]
  },
  {
   "cell_type": "code",
   "execution_count": null,
   "metadata": {},
   "outputs": [],
   "source": [
    "for i, elrow in edgelist.iterrows():\n",
    "    g.add_edge(elrow[0], elrow[1], attr_dict=elrow[2:].to_dict())"
   ]
  },
  {
   "cell_type": "markdown",
   "metadata": {},
   "source": [
    "## Schlüssel-Häfen (Betw.)"
   ]
  },
  {
   "cell_type": "code",
   "execution_count": null,
   "metadata": {},
   "outputs": [],
   "source": [
    "betweenness_centrality = nx.betweenness_centrality(graph_undirected, k=None, normalized=False, weight=None, endpoints=False, seed=None)"
   ]
  },
  {
   "cell_type": "code",
   "execution_count": null,
   "metadata": {},
   "outputs": [],
   "source": [
    "pos=nx.spring_layout(graph_undirected, k=0.1)\n",
    "plt.figure(1, figsize=(45,45))\n",
    "#weights = [graph_undirected[u][v]['weight']*0.005 for u,v in edges]\n",
    "nx.draw(graph_undirected,pos,node_color='#A0CBE2', edges=edges, edge_color='#BB0000',width=1,node_size=[math.log(v+2)*50 for v in betweenness_centrality.values()],font_size=5,with_labels=False)\n",
    "plt.savefig(\"graph_betweenness.pdf\")\n",
    "plt.show()"
   ]
  },
  {
   "cell_type": "markdown",
   "metadata": {},
   "source": [
    "## Bridges"
   ]
  },
  {
   "cell_type": "code",
   "execution_count": null,
   "metadata": {},
   "outputs": [],
   "source": [
    "bridges = nx.bridges(graph_undirected)\n",
    "bridges_copy = nx.bridges(graph_undirected)\n",
    "print(\"Percentage of Bridges:\" ,(len(list(bridges_copy))/len(edges))*100, \"%\")"
   ]
  },
  {
   "cell_type": "code",
   "execution_count": null,
   "metadata": {},
   "outputs": [],
   "source": [
    "# Plot the original trail map graph\n",
    "#nx.draw(g, pos=node_positions, node_size=20, alpha=0.1, node_color='black')\n",
    "# Plot graph to overlay with just the edges from the min weight matching\n",
    "#nx.draw(g_odd_complete_min_edges, pos=node_positions, node_size=20, alpha=1, node_color='red', edge_color='blue')\n",
    "#plt.title('Min Weight Matching on Orginal Graph')\n",
    "#plt.show()\n",
    "\n",
    "pos=nx.spring_layout(graph_undirected, k=0.05)\n",
    "plt.figure(1, figsize=(45,45))\n",
    "#weights = [graph_undirected[u][v]['weight']*0.005 for u,v in edges]\n",
    "nx.draw(graph_undirected,pos,node_color='#A0CBE2',edges=edges, edge_color='#BB0000',width=1,node_size=100,font_size=5,with_labels=False)\n",
    "nx.draw(graph_undirected,pos,node_color='#A0CBE2',edges=bridges, edge_color='#0000BB',width=1,node_size=100,font_size=5,with_labels=False)\n",
    "plt.savefig(\"graph_bridges.pdf\")\n",
    "plt.show()"
   ]
  },
  {
   "cell_type": "markdown",
   "metadata": {},
   "source": [
    "## Cluster & Cliquen: https://networkx.github.io/documentation/stable/reference/algorithms/approximation.html?highlight=cluster#module-networkx.algorithms.approximation.clustering_coefficient"
   ]
  },
  {
   "cell_type": "code",
   "execution_count": null,
   "metadata": {},
   "outputs": [],
   "source": []
  }
 ],
 "metadata": {
  "kernelspec": {
   "display_name": "Python 3",
   "language": "python",
   "name": "python3"
  },
  "language_info": {
   "codemirror_mode": {
    "name": "ipython",
    "version": 3
   },
   "file_extension": ".py",
   "mimetype": "text/x-python",
   "name": "python",
   "nbconvert_exporter": "python",
   "pygments_lexer": "ipython3",
   "version": "3.7.3"
  }
 },
 "nbformat": 4,
 "nbformat_minor": 4
}
