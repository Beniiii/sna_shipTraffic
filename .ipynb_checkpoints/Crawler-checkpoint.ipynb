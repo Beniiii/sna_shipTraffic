{
 "cells": [
  {
   "cell_type": "code",
   "execution_count": 27,
   "metadata": {},
   "outputs": [],
   "source": [
    "import requests\n",
    "import pandas as pd \n",
    "import time\n",
    "import numpy as np\n",
    "from bs4 import BeautifulSoup"
   ]
  },
  {
   "cell_type": "code",
   "execution_count": 2,
   "metadata": {},
   "outputs": [],
   "source": [
    "amsterdam = 89\n",
    "rotterdam = 361\n",
    "hamburg = 104\n",
    "ports = ['AMSTERDAM', 'ROTTERDAM', 'HAMBURG']"
   ]
  },
  {
   "cell_type": "code",
   "execution_count": 3,
   "metadata": {},
   "outputs": [],
   "source": [
    "\n",
    "origURL = 'https://www.myshiptracking.com/ports-arrivals-departures/?mmsi=&pid=&type=0&time=1575212940_1575299340&pp=50&page='\n",
    "\n",
    "data = []\n",
    "i = 1\n",
    "while(i <= 50):\n",
    "    url = origURL + '%d' % i\n",
    "\n",
    "    r = requests.get(url)\n",
    "    soup = BeautifulSoup(r.content, 'html.parser')\n",
    "    rows = soup.select('div.cs-table div.table-group')\n",
    "    for row in rows:\n",
    "        list = row.select_one('div.table-row').text.strip().splitlines()\n",
    "        type = row.select_one('div.table-row div.td_vesseltype img')\n",
    "        list.append(type.get('src'))\n",
    "        data.append(list)\n",
    "    i+= 1\n",
    "    time.sleep(0)\n",
    "# Create the pandas DataFrame \n",
    "df = pd.DataFrame(data, columns = ['Event', 'Time', 'Port', 'Vessel', 'VesselType']) \n",
    "# print dataframe. "
   ]
  },
  {
   "cell_type": "code",
   "execution_count": 4,
   "metadata": {},
   "outputs": [],
   "source": [
    "def setVesselType(number):\n",
    "    type = '';\n",
    "    if(number == '6_'):\n",
    "        type = 'passenger';\n",
    "    if(number == '7_'):\n",
    "        type = 'cargo';\n",
    "    if(number == '8_'):\n",
    "        type = 'tanker';\n",
    "    if(number == '3_'):\n",
    "        type = 'tug';\n",
    "    if(number == '0_'):\n",
    "        type = 'undefined';\n",
    "    if(number == '9_'):\n",
    "        type = 'yacht';\n",
    "    if(number == '4_'):\n",
    "        type = 'high speed';\n",
    "    if(number == '10'):\n",
    "        type = 'fishing';\n",
    "    if(number == '13'):\n",
    "        type = 'navigation aid';\n",
    "    return type;"
   ]
  },
  {
   "cell_type": "code",
   "execution_count": 5,
   "metadata": {},
   "outputs": [],
   "source": [
    "for i in df.index:\n",
    "    number = df['VesselType'][i][11:13]\n",
    "    df['VesselType'][i] = setVesselType(number)"
   ]
  },
  {
   "cell_type": "code",
   "execution_count": 6,
   "metadata": {},
   "outputs": [
    {
     "name": "stdout",
     "output_type": "stream",
     "text": [
      "          Event              Time                     Port  \\\n",
      "0       Arrival  2019-12-02 15:09                     TEES   \n",
      "1       Arrival  2019-12-02 15:08                ROTTERDAM   \n",
      "2       Arrival  2019-12-02 15:08                   ROUSAY   \n",
      "3       Arrival  2019-12-02 15:08          CALETA LA ARENA   \n",
      "4       Arrival  2019-12-02 15:08                BAKAUHENI   \n",
      "5     Departure  2019-12-02 15:08                LIVERPOOL   \n",
      "6     Departure  2019-12-02 15:08                 CRUZ BAY   \n",
      "7       Arrival  2019-12-02 15:08               SALTHOLMEN   \n",
      "8       Arrival  2019-12-02 15:08                HONG KONG   \n",
      "9     Departure  2019-12-02 15:08                 RAMSGATE   \n",
      "10    Departure  2019-12-02 15:08            VASHON ISLAND   \n",
      "11    Departure  2019-12-02 15:08                 GELKENES   \n",
      "12      Arrival  2019-12-02 15:08              SCHOONHOVEN   \n",
      "13    Departure  2019-12-02 15:08                 CHANGSHU   \n",
      "14    Departure  2019-12-02 15:08                   WEIHAI   \n",
      "15    Departure  2019-12-02 15:08                  KHOLMSK   \n",
      "16      Arrival  2019-12-02 15:08                   QUEBEC   \n",
      "17    Departure  2019-12-02 15:08          CALETA DEL SEBO   \n",
      "18      Arrival  2019-12-02 15:08                  HASSELT   \n",
      "19    Departure  2019-12-02 15:08                LYMINGTON   \n",
      "20      Arrival  2019-12-02 15:08                NORDERNEY   \n",
      "21    Departure  2019-12-02 15:08                 FUJAIRAH   \n",
      "22    Departure  2019-12-02 15:08             BRUNSBUETTEL   \n",
      "23      Arrival  2019-12-02 15:08             SALAMINA MEG   \n",
      "24      Arrival  2019-12-02 15:08                HELSINGOR   \n",
      "25    Departure  2019-12-02 15:08                  MESSINA   \n",
      "26      Arrival  2019-12-02 15:08                 CIRKEWWA   \n",
      "27    Departure  2019-12-02 15:08                 PLYMOUTH   \n",
      "28    Departure  2019-12-02 15:08               GOLFE JUAN   \n",
      "29      Arrival  2019-12-02 15:08           OUD BEIJERLAND   \n",
      "...         ...               ...                      ...   \n",
      "2470  Departure  2019-12-02 14:32            SAN FRANCISCO   \n",
      "2471  Departure  2019-12-02 14:32                  AMELAND   \n",
      "2472    Arrival  2019-12-02 14:32                ALGECIRAS   \n",
      "2473  Departure  2019-12-02 14:32               STRANGFORD   \n",
      "2474    Arrival  2019-12-02 14:32                 ALTAMIRA   \n",
      "2475    Arrival  2019-12-02 14:32                ST THOMAS   \n",
      "2476    Arrival  2019-12-02 14:32              SANDVIKVAAG   \n",
      "2477  Departure  2019-12-02 14:32                SYKKYLVEN   \n",
      "2478    Arrival  2019-12-02 14:32               KHORFAKKAN   \n",
      "2479    Arrival  2019-12-02 14:32                   RAFINA   \n",
      "2480    Arrival  2019-12-02 14:32                   PANJIN   \n",
      "2481    Arrival  2019-12-02 14:32              VENICE (LA)   \n",
      "2482    Arrival  2019-12-02 14:32                 BRESKENS   \n",
      "2483  Departure  2019-12-02 14:32           KINGSTON FERRY   \n",
      "2484  Departure  2019-12-02 14:32             BRUNSBUETTEL   \n",
      "2485  Departure  2019-12-02 14:32      PUERTO DE SALINETAS   \n",
      "2486  Departure  2019-12-02 14:32      ROTTERDAM WAALHAVEN   \n",
      "2487  Departure  2019-12-02 14:32                  PANJANG   \n",
      "2488  Departure  2019-12-02 14:32              PORT JEROME   \n",
      "2489    Arrival  2019-12-02 14:32                SINGAPORE   \n",
      "2490    Arrival  2019-12-02 14:32                   SHUNDE   \n",
      "2491  Departure  2019-12-02 14:32             CUMBRAE SLIP   \n",
      "2492    Arrival  2019-12-02 14:32                  SEATTLE   \n",
      "2493  Departure  2019-12-02 14:32             ORIENT POINT   \n",
      "2494  Departure  2019-12-02 14:32                 SHANGHAI   \n",
      "2495  Departure  2019-12-02 14:32               LA BOUILLE   \n",
      "2496    Arrival  2019-12-02 14:32               DELFSHAVEN   \n",
      "2497    Arrival  2019-12-02 14:32                    MIAMI   \n",
      "2498  Departure  2019-12-02 14:32                 DELFZIJL   \n",
      "2499  Departure  2019-12-02 14:32  VLAARDINGEN - ROTTERDAM   \n",
      "\n",
      "                        Vessel  VesselType  \n",
      "0         SVITZER BRISTOL [GB]         tug  \n",
      "1                 KRVE 59 [NL]  high speed  \n",
      "2            MV SHAPINSAY [GB]   passenger  \n",
      "3                DON JUAN [CL]   passenger  \n",
      "4     WINDU KARSA PRATAMA [ID]   passenger  \n",
      "5                SNOWDROP [GB]   passenger  \n",
      "6              RED HOOK 1 [VI]   passenger  \n",
      "7         TARNTANK TEKNIK [SE]       yacht  \n",
      "8                XIN CHAO [HK]   passenger  \n",
      "9            ESTUARY ELAN [GB]         tug  \n",
      "10             WSF KITSAP [US]   passenger  \n",
      "11       STAD SCHOONHOVEN [NL]   passenger  \n",
      "12       STAD SCHOONHOVEN [NL]   passenger  \n",
      "13     CHANGTONGQIDU16HAO [CN]   passenger  \n",
      "14            SHENGSHENG1 [CN]   passenger  \n",
      "15                  POMOR [RU]   undefined  \n",
      "16    ALPHONSE DESJARDINS [CA]       cargo  \n",
      "17         GRACIOSERO DOS [ES]   passenger  \n",
      "18                 VIKING [BE]       cargo  \n",
      "19            WIGHT LIGHT [GB]   passenger  \n",
      "20               FRISIA I [DE]   passenger  \n",
      "21                   ORYX [AE]         tug  \n",
      "22          FAEHRE DANZIG [DE]   passenger  \n",
      "23                AIANTAS [GR]   passenger  \n",
      "24                 HAMLET [DK]   passenger  \n",
      "25            SALERNO JET [IT]   passenger  \n",
      "26              248692000 [MT]   passenger  \n",
      "27            SD FORCEFUL [GB]         tug  \n",
      "28               NOVASTAR [FR]       yacht  \n",
      "29                  OTTER [NL]   passenger  \n",
      "...                        ...         ...  \n",
      "2470            MENDOCINO [US]  high speed  \n",
      "2471             VIGILANT [NL]         tug  \n",
      "2472         SPABUNKER 51 [ES]      tanker  \n",
      "2473         STRANGFORD 2 [GB]   passenger  \n",
      "2474          MSC METHONI [MX]       cargo  \n",
      "2475           ADVENTURER [VI]   passenger  \n",
      "2476              HUSAVIK [NO]   passenger  \n",
      "2477            ROVDEHORN [NO]   passenger  \n",
      "2478      GULFNAVIGATION2 [AE]   passenger  \n",
      "2479            EVIA STAR [GR]   passenger  \n",
      "2480            DE YING 2 [CN]       cargo  \n",
      "2481           MISS ALENE [US]         tug  \n",
      "2482               JUNTOS [NL]       cargo  \n",
      "2483      WSF WALLA WALLA [US]   passenger  \n",
      "2484        FAEHRE BERLIN [DE]   passenger  \n",
      "2485       V.B. ADRIATICO [ES]         tug  \n",
      "2486          FAIRPLAY 24 [NL]         tug  \n",
      "2487            TB.BSP II [ID]         tug  \n",
      "2488             MAGELLAN [FR]      tanker  \n",
      "2489            YM UPWARD [SG]       cargo  \n",
      "2490     PINGNANRUNFA 508 [CN]       cargo  \n",
      "2491           LOCH SHIRA [GB]   passenger  \n",
      "2492            SALLY FOX [US]   passenger  \n",
      "2493          PLUM ISLAND [US]   passenger  \n",
      "2494             HE SHENG [CN]       cargo  \n",
      "2495               BAC 20 [FR]   passenger  \n",
      "2496            MERCURIUS [NL]   undefined  \n",
      "2497               DIABLO [US]       yacht  \n",
      "2498              ASTERIX [NL]      tanker  \n",
      "2499               KRVE10 [NL]   undefined  \n",
      "\n",
      "[2500 rows x 5 columns]\n"
     ]
    }
   ],
   "source": [
    "print(df) "
   ]
  },
  {
   "cell_type": "code",
   "execution_count": 7,
   "metadata": {},
   "outputs": [],
   "source": [
    "df.to_csv(\"data.csv\")"
   ]
  },
  {
   "cell_type": "code",
   "execution_count": 8,
   "metadata": {},
   "outputs": [],
   "source": [
    "filtered_df = df[df['Port'].isin(ports)]"
   ]
  },
  {
   "cell_type": "code",
   "execution_count": 9,
   "metadata": {},
   "outputs": [
    {
     "name": "stdout",
     "output_type": "stream",
     "text": [
      "          Event              Time       Port                Vessel  VesselType\n",
      "1       Arrival  2019-12-02 15:08  ROTTERDAM          KRVE 59 [NL]  high speed\n",
      "68      Arrival  2019-12-02 15:08  ROTTERDAM         ADELHEID [NL]       cargo\n",
      "98    Departure  2019-12-02 15:07  AMSTERDAM           ACTIEF [NL]      tanker\n",
      "156     Arrival  2019-12-02 15:06  AMSTERDAM   SVITZER AMSTEL [NL]         tug\n",
      "157     Arrival  2019-12-02 15:06  ROTTERDAM         THEODELA [NL]      tanker\n",
      "163     Arrival  2019-12-02 15:06  AMSTERDAM         HARMONIE [NL]       cargo\n",
      "241   Departure  2019-12-02 15:05  AMSTERDAM      IJSSELMONDE [NL]   undefined\n",
      "242     Arrival  2019-12-02 15:05    HAMBURG        ST. PAULI [DE]   passenger\n",
      "279     Arrival  2019-12-02 15:05  AMSTERDAM       ANNE FRANK [NL]   passenger\n",
      "363   Departure  2019-12-02 15:04  AMSTERDAM           PONT 6 [NL]   passenger\n",
      "369   Departure  2019-12-02 15:04    HAMBURG      FALKENSTEIN [DE]   passenger\n",
      "434   Departure  2019-12-02 15:03  ROTTERDAM          KRVE 60 [NL]  high speed\n",
      "467   Departure  2019-12-02 15:02  AMSTERDAM         SALVOR 1 [NL]         tug\n",
      "517     Arrival  2019-12-02 15:02    HAMBURG       GLUECK AUF [DE]       cargo\n",
      "543     Arrival  2019-12-02 15:01  ROTTERDAM         AMOUREUS [NL]       cargo\n",
      "582     Arrival  2019-12-02 15:01  ROTTERDAM          KRVE 60 [NL]  high speed\n",
      "656   Departure  2019-12-02 14:59  ROTTERDAM            SBH 1 [NL]      tanker\n",
      "714     Arrival  2019-12-02 14:58  AMSTERDAM             LYNX [NL]         tug\n",
      "734   Departure  2019-12-02 14:58  AMSTERDAM       ZWAANTJE 6 [NL]   undefined\n",
      "754     Arrival  2019-12-02 14:58  ROTTERDAM            PAIVI [NL]       cargo\n",
      "803     Arrival  2019-12-02 14:57  AMSTERDAM          VINCENT [NL]   undefined\n",
      "886     Arrival  2019-12-02 14:56    HAMBURG      FALKENSTEIN [DE]   passenger\n",
      "895   Departure  2019-12-02 14:55    HAMBURG        TOLLERORT [DE]   passenger\n",
      "906   Departure  2019-12-02 14:55  ROTTERDAM         AMELIE 1 [NL]      tanker\n",
      "922     Arrival  2019-12-02 14:55  AMSTERDAM            KP 17 [NL]   undefined\n",
      "1024    Arrival  2019-12-02 14:53  AMSTERDAM           PONT 6 [NL]   passenger\n",
      "1106  Departure  2019-12-02 14:52  AMSTERDAM       MARTCILINO [NL]       cargo\n",
      "1187  Departure  2019-12-02 14:51  AMSTERDAM           CURATA [NL]       cargo\n",
      "1196    Arrival  2019-12-02 14:50    HAMBURG        TOLLERORT [DE]   passenger\n",
      "1226  Departure  2019-12-02 14:50  AMSTERDAM   SVITZER AMSTEL [NL]         tug\n",
      "...         ...               ...        ...                   ...         ...\n",
      "1703  Departure  2019-12-02 14:42  AMSTERDAM       THE LOUNGE [NL]   passenger\n",
      "1741  Departure  2019-12-02 14:42  AMSTERDAM     C'EST LA VIE [NL]       cargo\n",
      "1751  Departure  2019-12-02 14:42  AMSTERDAM       ANNE FRANK [NL]   passenger\n",
      "1760  Departure  2019-12-02 14:42    HAMBURG      FALKENSTEIN [DE]   passenger\n",
      "1763  Departure  2019-12-02 14:41  ROTTERDAM       VESPERTINE [NL]       cargo\n",
      "1798    Arrival  2019-12-02 14:41  ROTTERDAM     SMIT SCHELDE [NL]         tug\n",
      "1824    Arrival  2019-12-02 14:41  AMSTERDAM          BATOUWE [NL]       cargo\n",
      "1851    Arrival  2019-12-02 14:40    HAMBURG        ST. PAULI [DE]   passenger\n",
      "1935    Arrival  2019-12-02 14:39  ROTTERDAM     INVOTIS VIII [NL]       cargo\n",
      "1943  Departure  2019-12-02 14:39  AMSTERDAM    SOMTRANS XXVI [NL]      tanker\n",
      "1953    Arrival  2019-12-02 14:39  AMSTERDAM             P 58 [NL]         tug\n",
      "1974    Arrival  2019-12-02 14:39    HAMBURG       EILTANK 36 [DE]      tanker\n",
      "1982    Arrival  2019-12-02 14:38  AMSTERDAM            OSCAR [NL]       cargo\n",
      "2011    Arrival  2019-12-02 14:38  AMSTERDAM        MIKKY MAY [NL]         tug\n",
      "2059  Departure  2019-12-02 14:37  AMSTERDAM          TWILLIS [NL]       cargo\n",
      "2089    Arrival  2019-12-02 14:37  AMSTERDAM       PA1/CASTOR [NL]         tug\n",
      "2112    Arrival  2019-12-02 14:37  AMSTERDAM      CHARLEMAGNE [NL]         tug\n",
      "2159  Departure  2019-12-02 14:36  AMSTERDAM      WILSON CORK [NL]       cargo\n",
      "2183  Departure  2019-12-02 14:36  ROTTERDAM            KRVE2 [NL]   undefined\n",
      "2187  Departure  2019-12-02 14:36  AMSTERDAM          STEVEN1 [NL]   undefined\n",
      "2260  Departure  2019-12-02 14:35  AMSTERDAM             LYNX [NL]         tug\n",
      "2285    Arrival  2019-12-02 14:34    HAMBURG      FALKENSTEIN [DE]   passenger\n",
      "2332  Departure  2019-12-02 14:34  ROTTERDAM            RVE11 [NL]   undefined\n",
      "2344    Arrival  2019-12-02 14:34  AMSTERDAM           PONT 6 [NL]   passenger\n",
      "2349  Departure  2019-12-02 14:33  ROTTERDAM      AQUA LIGERA [NL]      tanker\n",
      "2360  Departure  2019-12-02 14:33    HAMBURG        TOLLERORT [DE]   passenger\n",
      "2376  Departure  2019-12-02 14:33    HAMBURG  HELENA SCHEPERS [DE]       cargo\n",
      "2388    Arrival  2019-12-02 14:33  AMSTERDAM       EILTANK 39 [NL]      tanker\n",
      "2457  Departure  2019-12-02 14:32  AMSTERDAM             P 58 [NL]         tug\n",
      "2469  Departure  2019-12-02 14:32  ROTTERDAM           ARIANE [NL]      tanker\n",
      "\n",
      "[70 rows x 5 columns]\n"
     ]
    }
   ],
   "source": [
    "print(filtered_df)"
   ]
  },
  {
   "cell_type": "code",
   "execution_count": 48,
   "metadata": {},
   "outputs": [
    {
     "name": "stdout",
     "output_type": "stream",
     "text": [
      "{'RVE11 [NL]', 'TWILLIS [NL]', 'HARMONIE [NL]', 'SALVOR 1 [NL]', 'ADELHEID [NL]', 'TOLLERORT [DE]', 'THE LOUNGE [NL]', 'INVOTIS VIII [NL]', 'NON VERBA [NL]', 'KORTENOORD [NL]', 'OSCAR [NL]', 'KRVE2 [NL]', 'QUO-VADIS [NL]', 'PAIVI [NL]', 'KP 17 [NL]', 'WILSON CORK [NL]', 'RPA11 [NL]', 'SMIT SCHELDE [NL]', 'ACTIEF [NL]', 'VINCENT [NL]', 'KRVE 59 [NL]', 'CURATA [NL]', 'MARTCILINO [NL]', 'HELENA SCHEPERS [DE]', 'P 58 [NL]', 'ARIANE [NL]', 'SBH 1 [NL]', 'GLUECK AUF [DE]', 'ANNE FRANK [NL]', 'THEODELA [NL]', 'SOMTRANS XXVI [NL]', 'BATOUWE [NL]', 'KRVE 60 [NL]', 'AMAZONE [NL]', 'ST. PAULI [DE]', 'AQUA LIGERA [NL]', 'IJSSELMONDE [NL]', 'PONT 6 [NL]', 'SVITZER AMSTEL [NL]', 'VESPERTINE [NL]', 'EILTANK 39 [NL]', 'PERFECT [NL]', \"C'EST LA VIE [NL]\", 'CHARLEMAGNE [NL]', 'AMELIE 1 [NL]', 'MIKKY MAY [NL]', 'STEVEN1 [NL]', 'AMOUREUS [NL]', 'EILTANK 36 [DE]', 'PA1/CASTOR [NL]', 'FALKENSTEIN [DE]', 'LYNX [NL]', 'ZWAANTJE 6 [NL]', 'RAFIKI [DE]'}\n"
     ]
    }
   ],
   "source": [
    "#set of vessels\n",
    "vessels = set(filtered_df.Vessel)"
   ]
  },
  {
   "cell_type": "code",
   "execution_count": 10,
   "metadata": {},
   "outputs": [
    {
     "name": "stdout",
     "output_type": "stream",
     "text": [
      "          Event              Time       Port       Vessel VesselType\n",
      "252     Arrival  2019-12-02 15:05    ZAANDAM  PONT 6 [NL]  passenger\n",
      "363   Departure  2019-12-02 15:04  AMSTERDAM  PONT 6 [NL]  passenger\n",
      "1024    Arrival  2019-12-02 14:53  AMSTERDAM  PONT 6 [NL]  passenger\n",
      "1045  Departure  2019-12-02 14:53    ZAANDAM  PONT 6 [NL]  passenger\n",
      "1580    Arrival  2019-12-02 14:44    ZAANDAM  PONT 6 [NL]  passenger\n",
      "1668  Departure  2019-12-02 14:43  AMSTERDAM  PONT 6 [NL]  passenger\n",
      "2344    Arrival  2019-12-02 14:34  AMSTERDAM  PONT 6 [NL]  passenger\n",
      "2402  Departure  2019-12-02 14:33    ZAANDAM  PONT 6 [NL]  passenger\n"
     ]
    }
   ],
   "source": [
    "### Unterste (Frühste) Departure herausfinden und letzte Arrival (Späteste)\n",
    "pont_6 = df[df['Vessel'].isin(['PONT 6 [NL]'])]\n",
    "print(pont_6)"
   ]
  },
  {
   "cell_type": "code",
   "execution_count": 44,
   "metadata": {},
   "outputs": [],
   "source": [
    "timetable = pd.DataFrame([], columns = ['DeparturePort', 'DepartureTime', 'ArrivalPort', 'ArrivalTime', 'Vessel', 'VesselType'])"
   ]
  },
  {
   "cell_type": "code",
   "execution_count": 45,
   "metadata": {},
   "outputs": [
    {
     "name": "stdout",
     "output_type": "stream",
     "text": [
      "Empty DataFrame\n",
      "Columns: [DeparturePort, DepartureTime, ArrivalPort, ArrivalTime, Vessel, VesselType]\n",
      "Index: []\n"
     ]
    }
   ],
   "source": [
    "print(timetable)"
   ]
  },
  {
   "cell_type": "code",
   "execution_count": 46,
   "metadata": {},
   "outputs": [],
   "source": [
    "# Set für Vessels erstellen, für jedes Vessel obige Tabelle erstellen\n",
    "depFirst = False\n",
    "for index, row in pont_6[::-1].iterrows():\n",
    "    if(pont_6.Event[index] == \"Departure\"):\n",
    "        departurePort = (pont_6.Port[index])\n",
    "        departureTime = (pont_6.Time[index])\n",
    "        vessel = (pont_6.Vessel[index])\n",
    "        vesselType = (pont_6.VesselType[index])\n",
    "        depFirst = True\n",
    "    if(pont_6.Event[index] == \"Arrival\" and depFirst):\n",
    "        arrivalPort = (pont_6.Port[index])\n",
    "        arrivalTime = (pont_6.Time[index])\n",
    "        depFirst = False\n",
    "        \n",
    "        newEntry = pd.DataFrame([[departurePort, departureTime, arrivalPort, arrivalTime, vessel, vesselType]], columns = ['DeparturePort', 'DepartureTime', 'ArrivalPort', 'ArrivalTime', 'Vessel', 'VesselType'])\n",
    "        timetable = timetable.append(newEntry, ignore_index = True)"
   ]
  },
  {
   "cell_type": "code",
   "execution_count": 47,
   "metadata": {},
   "outputs": [
    {
     "name": "stdout",
     "output_type": "stream",
     "text": [
      "  DeparturePort     DepartureTime ArrivalPort       ArrivalTime       Vessel  \\\n",
      "0       ZAANDAM  2019-12-02 14:33   AMSTERDAM  2019-12-02 14:34  PONT 6 [NL]   \n",
      "1     AMSTERDAM  2019-12-02 14:43     ZAANDAM  2019-12-02 14:44  PONT 6 [NL]   \n",
      "2       ZAANDAM  2019-12-02 14:53   AMSTERDAM  2019-12-02 14:53  PONT 6 [NL]   \n",
      "3     AMSTERDAM  2019-12-02 15:04     ZAANDAM  2019-12-02 15:05  PONT 6 [NL]   \n",
      "\n",
      "  VesselType  \n",
      "0  passenger  \n",
      "1  passenger  \n",
      "2  passenger  \n",
      "3  passenger  \n"
     ]
    }
   ],
   "source": [
    "print(timetable)"
   ]
  },
  {
   "cell_type": "code",
   "execution_count": null,
   "metadata": {},
   "outputs": [],
   "source": []
  }
 ],
 "metadata": {
  "kernelspec": {
   "display_name": "Python 3",
   "language": "python",
   "name": "python3"
  },
  "language_info": {
   "codemirror_mode": {
    "name": "ipython",
    "version": 3
   },
   "file_extension": ".py",
   "mimetype": "text/x-python",
   "name": "python",
   "nbconvert_exporter": "python",
   "pygments_lexer": "ipython3",
   "version": "3.7.3"
  }
 },
 "nbformat": 4,
 "nbformat_minor": 4
}
