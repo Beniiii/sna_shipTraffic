{
 "cells": [
  {
   "cell_type": "code",
   "execution_count": 64,
   "metadata": {},
   "outputs": [],
   "source": [
    "import requests\n",
    "import pandas as pd \n",
    "import time\n",
    "from bs4 import BeautifulSoup"
   ]
  },
  {
   "cell_type": "code",
   "execution_count": 65,
   "metadata": {},
   "outputs": [],
   "source": [
    "amsterdam = 89\n",
    "rotterdam = 361\n",
    "hamburg = 104\n",
    "ports = ['AMSTERDAM', 'ROTTERDAM', 'HAMBURG']"
   ]
  },
  {
   "cell_type": "code",
   "execution_count": 78,
   "metadata": {},
   "outputs": [],
   "source": [
    "\n",
    "origURL = 'https://www.myshiptracking.com/ports-arrivals-departures/?mmsi=&pid=&type=0&time=1575212940_1575299340&pp=50&page='\n",
    "\n",
    "data = []\n",
    "i = 1\n",
    "while(i <= 50):\n",
    "    url = origURL + '%d' % i\n",
    "\n",
    "    r = requests.get(url)\n",
    "    soup = BeautifulSoup(r.content, 'html.parser')\n",
    "    rows = soup.select('div.cs-table div.table-group')\n",
    "    for row in rows:\n",
    "        list = row.select_one('div.table-row').text.strip().splitlines()\n",
    "        type = row.select_one('div.table-row div.td_vesseltype img')\n",
    "        list.append(type.get('src'))\n",
    "        data.append(list)\n",
    "    i+= 1\n",
    "    time.sleep(0)\n",
    "# Create the pandas DataFrame \n",
    "df = pd.DataFrame(data, columns = ['Event', 'Time', 'Port', 'Vessel', 'VesselType']) \n",
    "# print dataframe. "
   ]
  },
  {
   "cell_type": "code",
   "execution_count": 79,
   "metadata": {},
   "outputs": [],
   "source": [
    "def setVesselType(number):\n",
    "    type = '';\n",
    "    if(number == '6_'):\n",
    "        type = 'passenger';\n",
    "    if(number == '7_'):\n",
    "        type = 'cargo';\n",
    "    if(number == '8_'):\n",
    "        type = 'tanker';\n",
    "    if(number == '3_'):\n",
    "        type = 'tug';\n",
    "    if(number == '0_'):\n",
    "        type = 'undefined';\n",
    "    if(number == '9_'):\n",
    "        type = 'yacht';\n",
    "    if(number == '4_'):\n",
    "        type = 'high speed';\n",
    "    if(number == '10'):\n",
    "        type = 'fishing';\n",
    "    if(number == '13'):\n",
    "        type = 'navigation aid';\n",
    "    return type;"
   ]
  },
  {
   "cell_type": "code",
   "execution_count": 80,
   "metadata": {},
   "outputs": [],
   "source": [
    "for i in df.index:\n",
    "    number = df['VesselType'][i][11:13]\n",
    "    df['VesselType'][i] = setVesselType(number)"
   ]
  },
  {
   "cell_type": "code",
   "execution_count": 81,
   "metadata": {},
   "outputs": [
    {
     "name": "stdout",
     "output_type": "stream",
     "text": [
      "          Event              Time             Port                    Vessel  \\\n",
      "0       Arrival  2019-12-02 15:09             TEES      SVITZER BRISTOL [GB]   \n",
      "1       Arrival  2019-12-02 15:08        ROTTERDAM              KRVE 59 [NL]   \n",
      "2       Arrival  2019-12-02 15:08           ROUSAY         MV SHAPINSAY [GB]   \n",
      "3       Arrival  2019-12-02 15:08  CALETA LA ARENA             DON JUAN [CL]   \n",
      "4       Arrival  2019-12-02 15:08        BAKAUHENI  WINDU KARSA PRATAMA [ID]   \n",
      "...         ...               ...              ...                       ...   \n",
      "2495  Departure  2019-12-02 14:31            BUSAN   PILOT DA DAE PO HO [KR]   \n",
      "2496    Arrival  2019-12-02 14:31          UTRECHT                LOTUS [NL]   \n",
      "2497    Arrival  2019-12-02 14:31         CIWANDAN          JAYAKARTA 2 [ID]   \n",
      "2498    Arrival  2019-12-02 14:31    GELSENKIRCHEN               SKAGEN [DE]   \n",
      "2499    Arrival  2019-12-02 14:31             RORO        LIFEGUARD 001 [SE]   \n",
      "\n",
      "      VesselType  \n",
      "0            tug  \n",
      "1     high speed  \n",
      "2      passenger  \n",
      "3      passenger  \n",
      "4      passenger  \n",
      "...          ...  \n",
      "2495   undefined  \n",
      "2496   undefined  \n",
      "2497   undefined  \n",
      "2498      tanker  \n",
      "2499              \n",
      "\n",
      "[2500 rows x 5 columns]\n"
     ]
    }
   ],
   "source": [
    "print(df) "
   ]
  },
  {
   "cell_type": "code",
   "execution_count": 82,
   "metadata": {},
   "outputs": [],
   "source": [
    "df.to_csv(\"data.csv\")"
   ]
  },
  {
   "cell_type": "code",
   "execution_count": 83,
   "metadata": {},
   "outputs": [],
   "source": [
    "filtered_df = df[df['Port'].isin(ports)]"
   ]
  },
  {
   "cell_type": "code",
   "execution_count": 84,
   "metadata": {},
   "outputs": [
    {
     "name": "stdout",
     "output_type": "stream",
     "text": [
      "          Event              Time       Port                Vessel  VesselType\n",
      "1       Arrival  2019-12-02 15:08  ROTTERDAM          KRVE 59 [NL]  high speed\n",
      "65      Arrival  2019-12-02 15:08  ROTTERDAM         ADELHEID [NL]       cargo\n",
      "94    Departure  2019-12-02 15:07  AMSTERDAM           ACTIEF [NL]      tanker\n",
      "152     Arrival  2019-12-02 15:06  AMSTERDAM   SVITZER AMSTEL [NL]         tug\n",
      "153     Arrival  2019-12-02 15:06  ROTTERDAM         THEODELA [NL]      tanker\n",
      "...         ...               ...        ...                   ...         ...\n",
      "2304  Departure  2019-12-02 14:33    HAMBURG        TOLLERORT [DE]   passenger\n",
      "2318  Departure  2019-12-02 14:33    HAMBURG  HELENA SCHEPERS [DE]       cargo\n",
      "2330    Arrival  2019-12-02 14:33  AMSTERDAM       EILTANK 39 [NL]      tanker\n",
      "2398  Departure  2019-12-02 14:32  AMSTERDAM             P 58 [NL]         tug\n",
      "2410  Departure  2019-12-02 14:32  ROTTERDAM           ARIANE [NL]      tanker\n",
      "\n",
      "[70 rows x 5 columns]\n"
     ]
    }
   ],
   "source": [
    "print(filtered_df)"
   ]
  },
  {
   "cell_type": "code",
   "execution_count": 85,
   "metadata": {},
   "outputs": [
    {
     "name": "stdout",
     "output_type": "stream",
     "text": [
      "          Event              Time       Port       Vessel VesselType\n",
      "246     Arrival  2019-12-02 15:05    ZAANDAM  PONT 6 [NL]  passenger\n",
      "357   Departure  2019-12-02 15:04  AMSTERDAM  PONT 6 [NL]  passenger\n",
      "1000    Arrival  2019-12-02 14:53  AMSTERDAM  PONT 6 [NL]  passenger\n",
      "1021  Departure  2019-12-02 14:53    ZAANDAM  PONT 6 [NL]  passenger\n",
      "1539    Arrival  2019-12-02 14:44    ZAANDAM  PONT 6 [NL]  passenger\n",
      "1626  Departure  2019-12-02 14:43  AMSTERDAM  PONT 6 [NL]  passenger\n",
      "2288    Arrival  2019-12-02 14:34  AMSTERDAM  PONT 6 [NL]  passenger\n",
      "2344  Departure  2019-12-02 14:33    ZAANDAM  PONT 6 [NL]  passenger\n"
     ]
    }
   ],
   "source": [
    "### Unterste (Frühste) Departure herausfinden und letzte Arrival (Späteste)\n",
    "pont_6 = df[df['Vessel'].isin(['PONT 6 [NL]'])]\n",
    "print(pont_6)"
   ]
  },
  {
   "cell_type": "code",
   "execution_count": 89,
   "metadata": {},
   "outputs": [],
   "source": [
    "timetable = pd.DataFrame([], columns = ['DeparturePort', 'DepartureTime', 'ArrivalPort', 'ArrivalTime', 'Vessel', 'VesselType'])"
   ]
  },
  {
   "cell_type": "code",
   "execution_count": 90,
   "metadata": {},
   "outputs": [
    {
     "name": "stdout",
     "output_type": "stream",
     "text": [
      "Empty DataFrame\n",
      "Columns: [DeparturePort, DepartureTime, ArrivalPort, ArrivalTime, Vessel, VesselType]\n",
      "Index: []\n"
     ]
    }
   ],
   "source": [
    "print(timetable)"
   ]
  },
  {
   "cell_type": "code",
   "execution_count": null,
   "metadata": {},
   "outputs": [],
   "source": [
    "# Set für Vessels erstellen, für jedes Vessel obige tabelle erstellen"
   ]
  }
 ],
 "metadata": {
  "kernelspec": {
   "display_name": "Python 3",
   "language": "python",
   "name": "python3"
  },
  "language_info": {
   "codemirror_mode": {
    "name": "ipython",
    "version": 3
   },
   "file_extension": ".py",
   "mimetype": "text/x-python",
   "name": "python",
   "nbconvert_exporter": "python",
   "pygments_lexer": "ipython3",
   "version": "3.7.4"
  }
 },
 "nbformat": 4,
 "nbformat_minor": 4
}
