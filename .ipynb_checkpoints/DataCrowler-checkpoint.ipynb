{
 "cells": [
  {
   "cell_type": "code",
   "execution_count": 1,
   "metadata": {},
   "outputs": [],
   "source": [
    "import requests\n",
    "import pandas as pd \n",
    "import time\n",
    "from bs4 import BeautifulSoup"
   ]
  },
  {
   "cell_type": "code",
   "execution_count": 2,
   "metadata": {},
   "outputs": [
    {
     "name": "stdout",
     "output_type": "stream",
     "text": [
      "1\n",
      "2\n",
      "3\n",
      "4\n",
      "5\n",
      "6\n",
      "7\n",
      "8\n",
      "9\n",
      "10\n"
     ]
    }
   ],
   "source": [
    "origURL = 'https://www.myshiptracking.com/ports-arrivals-departures/&pp=50&page='\n",
    "\n",
    "data = []\n",
    "i = 1\n",
    "while(i <= 10):\n",
    "    url = origURL + '%d' % i\n",
    "\n",
    "    r = requests.get(url)\n",
    "    soup = BeautifulSoup(r.content, 'html.parser')\n",
    "    rows = soup.select('div.cs-table div.table-group')\n",
    "    for row in rows:\n",
    "        list = row.select_one('div.table-row').text.strip().splitlines()\n",
    "        type = row.select_one('div.table-row div.td_vesseltype img')\n",
    "        list.append(type.get('src'))\n",
    "        data.append(list)\n",
    "    \n",
    "    print(i)\n",
    "    i+= 1\n",
    "    #time.sleep(0.05)\n",
    "    \n",
    "# Create the pandas DataFrame \n",
    "df = pd.DataFrame(data, columns = ['Event', 'Time', 'Port', 'Vessel', 'VesselType']) \n"
   ]
  },
  {
   "cell_type": "code",
   "execution_count": 3,
   "metadata": {},
   "outputs": [],
   "source": [
    "df.to_csv(\"rawData.csv\")"
   ]
  }
 ],
 "metadata": {
  "kernelspec": {
   "display_name": "Python 3",
   "language": "python",
   "name": "python3"
  },
  "language_info": {
   "codemirror_mode": {
    "name": "ipython",
    "version": 3
   },
   "file_extension": ".py",
   "mimetype": "text/x-python",
   "name": "python",
   "nbconvert_exporter": "python",
   "pygments_lexer": "ipython3",
   "version": "3.7.3"
  }
 },
 "nbformat": 4,
 "nbformat_minor": 4
}
