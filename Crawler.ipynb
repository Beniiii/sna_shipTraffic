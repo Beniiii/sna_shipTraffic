{
 "cells": [
  {
   "cell_type": "code",
   "execution_count": 78,
   "metadata": {},
   "outputs": [],
   "source": [
    "import requests\n",
    "import pandas as pd \n",
    "import time\n",
    "from bs4 import BeautifulSoup\n",
    "\n",
    "origURL = 'https://www.myshiptracking.com/ports-arrivals-departures/?mmsi=&pid=89&type=0&time=1573820700_1573907100&page='\n",
    "\n",
    "data = []\n",
    "i = 1\n",
    "while(i <= 50):\n",
    "    url = origURL + '%d' % i\n",
    "\n",
    "    r = requests.get(url)\n",
    "    soup = BeautifulSoup(r.content, 'html.parser')\n",
    "    rows = soup.select('div.cs-table div.table-group')\n",
    "    for row in rows:\n",
    "        data.append(row.select_one('div.table-row').text.strip().splitlines())\n",
    "    i+= 1\n",
    "    time.sleep(0)\n",
    "# Create the pandas DataFrame \n",
    "df = pd.DataFrame(data, columns = ['Event', 'Time', 'Port', 'Vessel']) \n",
    "# print dataframe. "
   ]
  },
  {
   "cell_type": "code",
   "execution_count": 79,
   "metadata": {},
   "outputs": [
    {
     "name": "stdout",
     "output_type": "stream",
     "text": [
      "         Event              Time       Port                  Vessel\n",
      "0    Departure  2019-11-16 12:24  AMSTERDAM       MAJESTIC TMS [NL]\n",
      "1      Arrival  2019-11-16 12:24  AMSTERDAM          MANTYRANO [NL]\n",
      "2      Arrival  2019-11-16 12:23  AMSTERDAM               WABO [NL]\n",
      "3    Departure  2019-11-16 12:23  AMSTERDAM             PONT 6 [NL]\n",
      "4    Departure  2019-11-16 12:22  AMSTERDAM       VOLHARDING 8 [NL]\n",
      "5    Departure  2019-11-16 12:21  AMSTERDAM            ANTARES [NL]\n",
      "6    Departure  2019-11-16 12:21  AMSTERDAM               FREJ [NL]\n",
      "7    Departure  2019-11-16 12:21  AMSTERDAM        STANLEYSTAD [NL]\n",
      "8      Arrival  2019-11-16 12:18  AMSTERDAM             ADANDI [NL]\n",
      "9      Arrival  2019-11-16 12:16  AMSTERDAM               ANNA [NL]\n",
      "10   Departure  2019-11-16 12:16  AMSTERDAM  ATLANTIC PROGRESS [NL]\n",
      "11     Arrival  2019-11-16 12:16  AMSTERDAM             PONT 6 [NL]\n",
      "12     Arrival  2019-11-16 12:15  AMSTERDAM   JOHANNES VERMEER [NL]\n",
      "13     Arrival  2019-11-16 12:11  AMSTERDAM                KP2 [NL]\n",
      "14   Departure  2019-11-16 12:07  AMSTERDAM               WABO [NL]\n",
      "15   Departure  2019-11-16 12:06  AMSTERDAM         PA5/POLLUX [NL]\n",
      "16   Departure  2019-11-16 12:04  AMSTERDAM             PONT 6 [NL]\n",
      "17   Departure  2019-11-16 12:00  AMSTERDAM                KP2 [NL]\n",
      "18     Arrival  2019-11-16 11:59  AMSTERDAM             NESCIO [NL]\n",
      "19   Departure  2019-11-16 11:57  AMSTERDAM          EEMSTROOM [NL]\n",
      "20     Arrival  2019-11-16 11:56  AMSTERDAM       AMSTELSTROOM [NL]\n",
      "21     Arrival  2019-11-16 11:56  AMSTERDAM             PONT 6 [NL]\n",
      "22     Arrival  2019-11-16 11:55  AMSTERDAM                PAX [NL]\n",
      "23   Departure  2019-11-16 11:55  AMSTERDAM       VOORZAAN III [NL]\n",
      "24     Arrival  2019-11-16 11:53  AMSTERDAM             SIRIUS [NL]\n",
      "25     Arrival  2019-11-16 11:53  AMSTERDAM       MAJESTIC TMS [NL]\n",
      "26     Arrival  2019-11-16 11:46  AMSTERDAM       VOORZAAN III [NL]\n",
      "27     Arrival  2019-11-16 11:45  AMSTERDAM          SALAMANCA [NL]\n",
      "28   Departure  2019-11-16 11:44  AMSTERDAM             PONT 6 [NL]\n",
      "29   Departure  2019-11-16 11:43  AMSTERDAM              BERYL [NL]\n",
      "..         ...               ...        ...                     ...\n",
      "686    Arrival  2019-11-15 13:14  AMSTERDAM           RES NOVA [NL]\n",
      "687    Arrival  2019-11-15 13:05  AMSTERDAM            SKYLINE [NL]\n",
      "688  Departure  2019-11-15 13:04  AMSTERDAM             PONT 6 [NL]\n",
      "689    Arrival  2019-11-15 13:03  AMSTERDAM            MERWEDE [NL]\n",
      "690    Arrival  2019-11-15 12:58  AMSTERDAM             RAIDER [NL]\n",
      "691  Departure  2019-11-15 12:57  AMSTERDAM       MAJESTIC TMS [NL]\n",
      "692    Arrival  2019-11-15 12:57  AMSTERDAM             PONT 6 [NL]\n",
      "693    Arrival  2019-11-15 12:57  AMSTERDAM      PRINS HENDRIK [NL]\n",
      "694    Arrival  2019-11-15 12:56  AMSTERDAM              LOEVE [NL]\n",
      "695  Departure  2019-11-15 12:52  AMSTERDAM       CRANEBARGE 1 [NL]\n",
      "696  Departure  2019-11-15 12:52  AMSTERDAM       C'EST LA VIE [NL]\n",
      "697  Departure  2019-11-15 12:50  AMSTERDAM            ADRIANA [NL]\n",
      "698  Departure  2019-11-15 12:50  AMSTERDAM      SOMTRANS XXXI [NL]\n",
      "699    Arrival  2019-11-15 12:47  AMSTERDAM    SVITZER TYPHOON [NL]\n",
      "700    Arrival  2019-11-15 12:45  AMSTERDAM            ZEELAND [NL]\n",
      "701    Arrival  2019-11-15 12:44  AMSTERDAM            PHOENIX [NL]\n",
      "702  Departure  2019-11-15 12:44  AMSTERDAM              NELLY [NL]\n",
      "703  Departure  2019-11-15 12:43  AMSTERDAM             PONT 6 [NL]\n",
      "704    Arrival  2019-11-15 12:43  AMSTERDAM           TORMENTA [NL]\n",
      "705  Departure  2019-11-15 12:43  AMSTERDAM              DORUS [NL]\n",
      "706    Arrival  2019-11-15 12:42  AMSTERDAM             ARIANE [NL]\n",
      "707    Arrival  2019-11-15 12:41  AMSTERDAM            PRIMERA [NL]\n",
      "708  Departure  2019-11-15 12:38  AMSTERDAM           SYNDIKUS [NL]\n",
      "709    Arrival  2019-11-15 12:37  AMSTERDAM            GYRINUS [NL]\n",
      "710    Arrival  2019-11-15 12:36  AMSTERDAM             PONT 6 [NL]\n",
      "711  Departure  2019-11-15 12:35  AMSTERDAM             DYTHAR [NL]\n",
      "712  Departure  2019-11-15 12:32  AMSTERDAM               TRIO [NL]\n",
      "713    Arrival  2019-11-15 12:29  AMSTERDAM       ELLY GLASIUS [NL]\n",
      "714    Arrival  2019-11-15 12:28  AMSTERDAM         PA4 ATHENA [NL]\n",
      "715    Arrival  2019-11-15 12:28  AMSTERDAM              DORUS [NL]\n",
      "\n",
      "[716 rows x 4 columns]\n"
     ]
    }
   ],
   "source": [
    "print(df) "
   ]
  }
 ],
 "metadata": {
  "kernelspec": {
   "display_name": "Python 3",
   "language": "python",
   "name": "python3"
  },
  "language_info": {
   "codemirror_mode": {
    "name": "ipython",
    "version": 3
   },
   "file_extension": ".py",
   "mimetype": "text/x-python",
   "name": "python",
   "nbconvert_exporter": "python",
   "pygments_lexer": "ipython3",
   "version": "3.7.3"
  }
 },
 "nbformat": 4,
 "nbformat_minor": 4
}
