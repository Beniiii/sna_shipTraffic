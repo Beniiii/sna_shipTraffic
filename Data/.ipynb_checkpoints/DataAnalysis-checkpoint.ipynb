{
 "cells": [
  {
   "cell_type": "code",
   "execution_count": 1,
   "metadata": {},
   "outputs": [],
   "source": [
    "import pandas as pd \n",
    "import numpy as np\n",
    "import matplotlib.image as mpimg\n",
    "import matplotlib.pyplot as plt\n",
    "%matplotlib inline\n",
    "import seaborn as sns"
   ]
  },
  {
   "cell_type": "code",
   "execution_count": 2,
   "metadata": {},
   "outputs": [
    {
     "name": "stdout",
     "output_type": "stream",
     "text": [
      "                Event              Time          Port  \\\n",
      "Unnamed: 0                                              \n",
      "0           Departure  2019-12-08 20:18  PORT DICKSON   \n",
      "1           Departure  2019-12-08 20:18   PORT JEROME   \n",
      "2           Departure  2019-12-08 20:18     STAVANGER   \n",
      "3           Departure  2019-12-08 20:18          TARS   \n",
      "4           Departure  2019-12-08 20:18       GOSPORT   \n",
      "...               ...               ...           ...   \n",
      "249995        Arrival  2019-12-05 14:16    WHITSTABLE   \n",
      "249996        Arrival  2019-12-05 14:16        BOGNES   \n",
      "249997        Arrival  2019-12-05 14:16     ROZENBURG   \n",
      "249998        Arrival  2019-12-05 14:16     STORNOWAY   \n",
      "249999        Arrival  2019-12-05 14:16     ROTTERDAM   \n",
      "\n",
      "                               Vessel VesselType  \n",
      "Unnamed: 0                                        \n",
      "0                    ORKIM POWER [MY]     tanker  \n",
      "1                         VAUBAN [FR]  undefined  \n",
      "2                          TEDNO [NO]  passenger  \n",
      "3                        LOLLAND [DK]  passenger  \n",
      "4           SPIRIT OF PORTSMOUTH [GB]  passenger  \n",
      "...                               ...        ...  \n",
      "249995                LISA MARIE [GB]    fishing  \n",
      "249996                  HAMAROEY [NO]  passenger  \n",
      "249997               BLANKENBURG [NL]  passenger  \n",
      "249998                  VOE EARL [GB]        tug  \n",
      "249999                     STERN [NL]      cargo  \n",
      "\n",
      "[250000 rows x 5 columns]\n"
     ]
    }
   ],
   "source": [
    "df = pd.read_csv(\"./preparedData.csv\", index_col=[0]) \n",
    "print(df)"
   ]
  },
  {
   "cell_type": "code",
   "execution_count": 3,
   "metadata": {},
   "outputs": [
    {
     "name": "stdout",
     "output_type": "stream",
     "text": [
      "{'Arrival', 'Departure'}\n"
     ]
    }
   ],
   "source": [
    "events = set(df.Event)\n",
    "print(events)"
   ]
  },
  {
   "cell_type": "code",
   "execution_count": 4,
   "metadata": {},
   "outputs": [
    {
     "data": {
      "image/png": "[encoded data removed]",
      "text/plain": [
       "<Figure size 288x432 with 1 Axes>"
      ]
     },
     "metadata": {
      "needs_background": "light"
     },
     "output_type": "display_data"
    }
   ],
   "source": [
    "fig, ax = plt.subplots(figsize=(4,6))\n",
    "sns.countplot(x=df.Event, data=df)\n",
    "plt.show()"
   ]
  },
  {
   "cell_type": "code",
   "execution_count": 5,
   "metadata": {},
   "outputs": [
    {
     "name": "stdout",
     "output_type": "stream",
     "text": [
      "43633\n"
     ]
    }
   ],
   "source": [
    "vessels = set(df.Vessel)\n",
    "print(len(vessels))"
   ]
  },
  {
   "cell_type": "code",
   "execution_count": 6,
   "metadata": {},
   "outputs": [
    {
     "data": {
      "image/png": "[encoded data removed]",
      "text/plain": [
       "<Figure size 1080x576 with 1 Axes>"
      ]
     },
     "metadata": {
      "needs_background": "light"
     },
     "output_type": "display_data"
    }
   ],
   "source": [
    "fig, ax = plt.subplots(figsize=(15,8))\n",
    "sns.countplot(x=df.VesselType, data=df, order=df.VesselType.value_counts().index)\n",
    "plt.show()"
   ]
  },
  {
   "cell_type": "code",
   "execution_count": 7,
   "metadata": {},
   "outputs": [
    {
     "name": "stdout",
     "output_type": "stream",
     "text": [
      "4044\n"
     ]
    }
   ],
   "source": [
    "ports = set(df.Port)\n",
    "print(len(ports))"
   ]
  },
  {
   "cell_type": "code",
   "execution_count": 8,
   "metadata": {},
   "outputs": [
    {
     "name": "stdout",
     "output_type": "stream",
     "text": [
      "       DeparturePort     DepartureTime ArrivalPort       ArrivalTime  \\\n",
      "0           GUSTAVIA  2019-12-05 19:59    GUSTAVIA  2019-12-06 09:56   \n",
      "1           GUSTAVIA  2019-12-06 12:52    GUSTAVIA  2019-12-07 10:06   \n",
      "2      FREEPORT (TX)  2019-12-05 20:10     HOUSTON  2019-12-06 07:59   \n",
      "3              KAWAU  2019-12-06 20:05       KAWAU  2019-12-07 03:08   \n",
      "4              KAWAU  2019-12-07 22:17       KAWAU  2019-12-08 00:26   \n",
      "...              ...               ...         ...               ...   \n",
      "98287         TUAPSE  2019-12-07 04:39      TUAPSE  2019-12-07 04:42   \n",
      "98288         TUAPSE  2019-12-07 07:55      TUAPSE  2019-12-07 08:51   \n",
      "98289         TUAPSE  2019-12-07 12:13      TUAPSE  2019-12-07 12:23   \n",
      "98290         TUAPSE  2019-12-07 18:53      TUAPSE  2019-12-07 19:43   \n",
      "98291         TUAPSE  2019-12-08 13:50      TUAPSE  2019-12-08 14:09   \n",
      "\n",
      "                      Vessel VesselType  \n",
      "0               HIRUNDO [BL]      cargo  \n",
      "1               HIRUNDO [BL]      cargo  \n",
      "2           DEL WILKINS [US]        tug  \n",
      "3                KRABAT [NZ]      yacht  \n",
      "4                KRABAT [NZ]      yacht  \n",
      "...                      ...        ...  \n",
      "98287  KAPITAN AVDYUKOV [RU]        tug  \n",
      "98288  KAPITAN AVDYUKOV [RU]        tug  \n",
      "98289  KAPITAN AVDYUKOV [RU]        tug  \n",
      "98290  KAPITAN AVDYUKOV [RU]        tug  \n",
      "98291  KAPITAN AVDYUKOV [RU]        tug  \n",
      "\n",
      "[98292 rows x 6 columns]\n"
     ]
    }
   ],
   "source": [
    "df_timetable = pd.read_csv(\"./timetable.csv\", index_col=[0]) \n",
    "print(df_timetable)"
   ]
  },
  {
   "cell_type": "code",
   "execution_count": null,
   "metadata": {},
   "outputs": [],
   "source": []
  }
 ],
 "metadata": {
  "kernelspec": {
   "display_name": "Python 3",
   "language": "python",
   "name": "python3"
  },
  "language_info": {
   "codemirror_mode": {
    "name": "ipython",
    "version": 3
   },
   "file_extension": ".py",
   "mimetype": "text/x-python",
   "name": "python",
   "nbconvert_exporter": "python",
   "pygments_lexer": "ipython3",
   "version": "3.7.4"
  }
 },
 "nbformat": 4,
 "nbformat_minor": 4
}
